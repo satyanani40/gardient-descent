{
 "cells": [
  {
   "cell_type": "code",
   "execution_count": 10,
   "id": "72d5c691",
   "metadata": {},
   "outputs": [],
   "source": [
    "from sklearn.datasets import load_diabetes\n",
    "\n",
    "import numpy as np\n",
    "from sklearn.linear_model import LinearRegression\n",
    "from sklearn.metrics import r2_score\n",
    "from sklearn.model_selection import train_test_split\n"
   ]
  },
  {
   "cell_type": "code",
   "execution_count": 11,
   "id": "5e09bac8",
   "metadata": {},
   "outputs": [],
   "source": [
    "X,y = load_diabetes(return_X_y=True)"
   ]
  },
  {
   "cell_type": "code",
   "execution_count": 12,
   "id": "8e474ac5",
   "metadata": {},
   "outputs": [
    {
     "name": "stdout",
     "output_type": "stream",
     "text": [
      "(442, 10)\n",
      "(442,)\n"
     ]
    }
   ],
   "source": [
    "print(X.shape)\n",
    "print(y.shape)"
   ]
  },
  {
   "cell_type": "code",
   "execution_count": 4,
   "id": "41cccda6",
   "metadata": {},
   "outputs": [],
   "source": [
    "X_train,X_test,y_train,y_test = train_test_split(X,y,test_size=0.2, random_state=2)"
   ]
  },
  {
   "cell_type": "code",
   "execution_count": 5,
   "id": "d66e34f8",
   "metadata": {},
   "outputs": [
    {
     "data": {
      "text/plain": [
       "LinearRegression()"
      ]
     },
     "execution_count": 5,
     "metadata": {},
     "output_type": "execute_result"
    }
   ],
   "source": [
    "reg = LinearRegression()\n",
    "reg.fit(X_train,y_train)"
   ]
  },
  {
   "cell_type": "code",
   "execution_count": 13,
   "id": "fa68f9cf",
   "metadata": {},
   "outputs": [
    {
     "name": "stdout",
     "output_type": "stream",
     "text": [
      "intercept b :151.88334520854633, coef_:[  -9.16088483 -205.46225988  516.68462383  340.62734108 -895.54360867\n",
      "  561.21453306  153.88478595  126.73431596  861.12139955   52.41982836]\n"
     ]
    }
   ],
   "source": [
    "print(f\"intercept b :{reg.intercept_}, coef_:{reg.coef_}\")"
   ]
  },
  {
   "cell_type": "code",
   "execution_count": 7,
   "id": "903bd6d5",
   "metadata": {},
   "outputs": [
    {
     "data": {
      "text/plain": [
       "0.4399387660024645"
      ]
     },
     "execution_count": 7,
     "metadata": {},
     "output_type": "execute_result"
    }
   ],
   "source": [
    "y_pred = reg.predict(X_test)\n",
    "r2_score(y_test,y_pred)"
   ]
  },
  {
   "cell_type": "code",
   "execution_count": 19,
   "id": "839e3038",
   "metadata": {},
   "outputs": [],
   "source": [
    "import random\n",
    "\n",
    "class MiniBatchRegression:\n",
    "    \n",
    "    def __init__(self,batch_size,learning_rate=0, epochs=100):\n",
    "        self.coef=None\n",
    "        self.intercept_=None\n",
    "        self.lr = learning_rate\n",
    "        self.epochs = epochs\n",
    "        self.batch_size = batch_size\n",
    "        \n",
    "    def fit(self, X_train,y_train):\n",
    "            self.intercept_ = 0\n",
    "            self.coef = np.ones(X_train.shape[1])\n",
    "            for i in range(self.epochs):\n",
    "                for j in range(int(X_train.shape[0]/self.batch_size)):\n",
    "                    idx = random.sample(range(X_train.shape[0]), self.batch_size)\n",
    "                    y_hat = np.dot(X_train[idx], self.coef)+self.intercept_\n",
    "                    intercept_der = -2*np.mean(y_train[idx]-y_hat)\n",
    "                    self.intercept_ = self.intercept_ - (self.lr* intercept_der)\n",
    "                    coef_der = -2 * np.dot((y_train[idx] - y_hat), X_train[idx])\n",
    "                    self.coef = self.coef - (self.lr * coef_der)\n",
    "            print(self.intercept_, self.coef)\n",
    "            \n",
    "            \n",
    "    def predict(self, X_test):\n",
    "        return np.dot(X_test, self.coef)+self.intercept_\n",
    "    \n",
    "\n"
   ]
  },
  {
   "cell_type": "code",
   "execution_count": 26,
   "id": "a41eeef7",
   "metadata": {},
   "outputs": [
    {
     "name": "stdout",
     "output_type": "stream",
     "text": [
      "151.51175125655746 [  36.25541621 -136.74443691  445.81720392  316.56289071  -16.56378838\n",
      "  -83.9621469  -188.82110765  113.3103413   398.33759057  110.77042564]\n"
     ]
    }
   ],
   "source": [
    "mgd = MiniBatchRegression(batch_size=int(X_train.shape[0]/10), learning_rate=0.01,epochs=100)\n",
    "mgd.fit(X_train, y_train)"
   ]
  },
  {
   "cell_type": "code",
   "execution_count": 27,
   "id": "5d9205b9",
   "metadata": {},
   "outputs": [],
   "source": [
    "y_pred = mgd.predict(X_test)"
   ]
  },
  {
   "cell_type": "code",
   "execution_count": 28,
   "id": "1b3624f8",
   "metadata": {},
   "outputs": [
    {
     "name": "stdout",
     "output_type": "stream",
     "text": [
      "0.4510870716382481\n"
     ]
    }
   ],
   "source": [
    "print(r2_score(y_test, y_pred))"
   ]
  }
 ],
 "metadata": {
  "kernelspec": {
   "display_name": "Python 3 (ipykernel)",
   "language": "python",
   "name": "python3"
  },
  "language_info": {
   "codemirror_mode": {
    "name": "ipython",
    "version": 3
   },
   "file_extension": ".py",
   "mimetype": "text/x-python",
   "name": "python",
   "nbconvert_exporter": "python",
   "pygments_lexer": "ipython3",
   "version": "3.7.3"
  }
 },
 "nbformat": 4,
 "nbformat_minor": 5
}
