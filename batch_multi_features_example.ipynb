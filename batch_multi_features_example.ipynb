{
 "cells": [
  {
   "cell_type": "code",
   "execution_count": 3,
   "id": "72d5c691",
   "metadata": {},
   "outputs": [],
   "source": [
    "from sklearn.datasets import load_diabetes\n",
    "\n",
    "import numpy as np\n",
    "from sklearn.linear_model import LinearRegression\n",
    "from sklearn.metrics import r2_score\n",
    "from sklearn.model_selection import train_test_split\n"
   ]
  },
  {
   "cell_type": "code",
   "execution_count": 4,
   "id": "5e09bac8",
   "metadata": {},
   "outputs": [],
   "source": [
    "X,y = load_diabetes(return_X_y=True)"
   ]
  },
  {
   "cell_type": "code",
   "execution_count": 5,
   "id": "8e474ac5",
   "metadata": {},
   "outputs": [
    {
     "name": "stdout",
     "output_type": "stream",
     "text": [
      "(442, 10)\n",
      "(442,)\n"
     ]
    }
   ],
   "source": [
    "print(X.shape)\n",
    "print(y.shape)"
   ]
  },
  {
   "cell_type": "code",
   "execution_count": 6,
   "id": "41cccda6",
   "metadata": {},
   "outputs": [],
   "source": [
    "X_train,X_test,y_train,y_test = train_test_split(X,y,test_size=0.2, random_state=2)"
   ]
  },
  {
   "cell_type": "code",
   "execution_count": 7,
   "id": "d66e34f8",
   "metadata": {},
   "outputs": [
    {
     "data": {
      "text/plain": [
       "LinearRegression()"
      ]
     },
     "execution_count": 7,
     "metadata": {},
     "output_type": "execute_result"
    }
   ],
   "source": [
    "reg = LinearRegression()\n",
    "reg.fit(X_train,y_train)"
   ]
  },
  {
   "cell_type": "code",
   "execution_count": 10,
   "id": "fa68f9cf",
   "metadata": {},
   "outputs": [
    {
     "name": "stdout",
     "output_type": "stream",
     "text": [
      "intercept b :151.88334520854633, coef_:[  -9.16088483 -205.46225988  516.68462383  340.62734108 -895.54360867\n",
      "  561.21453306  153.88478595  126.73431596  861.12139955   52.41982836]\n"
     ]
    }
   ],
   "source": [
    "print(f\"intercept b :{reg.intercept_}, coef_:{reg.coef_}\")"
   ]
  },
  {
   "cell_type": "code",
   "execution_count": 12,
   "id": "903bd6d5",
   "metadata": {},
   "outputs": [
    {
     "data": {
      "text/plain": [
       "0.4399387660024645"
      ]
     },
     "execution_count": 12,
     "metadata": {},
     "output_type": "execute_result"
    }
   ],
   "source": [
    "y_pred = reg.predict(X_test)\n",
    "r2_score(y_test,y_pred)"
   ]
  },
  {
   "cell_type": "code",
   "execution_count": 21,
   "id": "839e3038",
   "metadata": {},
   "outputs": [
    {
     "name": "stdout",
     "output_type": "stream",
     "text": [
      "27.524810145374133 ===== [1.16381761 0.99919238 1.37868483 1.32836127 1.13258682 1.07221061\n",
      " 0.78274423 1.22362805 1.42248605 1.23953832]\n"
     ]
    }
   ],
   "source": [
    "class GDRegression:\n",
    "    \n",
    "    def __init__(self,learning_rate=0, epochs=100):\n",
    "        self.coef=None\n",
    "        self.intercept_=None\n",
    "        self.lr = learning_rate\n",
    "        self.epochs = epochs\n",
    "        \n",
    "    def fit(self, X_train,y_train):\n",
    "            self.intercept_ = 0\n",
    "            self.coef = np.ones(X_train.shape[1])\n",
    "            for i in range(self.epochs):\n",
    "                y_hat = np.dot(X_train, self.coef)+self.intercept_\n",
    "                intercept_der = -2*np.mean(y_train-y_hat)\n",
    "                self.intercept_ = self.intercept_ - (self.lr* intercept_der)\n",
    "                coef_der = -2 * np.dot((y_train - y_hat), X_train)/X_train.shape[0]\n",
    "                self.coef = self.coef - (self.lr * coef_der)\n",
    "                     \n",
    "            print(self.intercept_, '=====',self.coef)\n",
    "            \n",
    "    def predict(self, X_test):\n",
    "        return np.dot(X_test, self.coef)+self.intercept_\n",
    "    \n",
    "\n"
   ]
  },
  {
   "cell_type": "code",
   "execution_count": 39,
   "id": "a41eeef7",
   "metadata": {},
   "outputs": [
    {
     "name": "stdout",
     "output_type": "stream",
     "text": [
      "151.9573741798827 ===== [ 8.79927508e-02 -1.99136544e+02  5.22351020e+02  3.37303029e+02\n",
      " -5.42559097e+01 -1.29360587e+02 -1.91653948e+02  9.17012573e+01\n",
      "  4.96847963e+02  7.54617798e+01]\n"
     ]
    }
   ],
   "source": [
    "gd = GDRegression(0.4, epochs=2000)\n",
    "gd.fit(X_train, y_train)"
   ]
  },
  {
   "cell_type": "code",
   "execution_count": 40,
   "id": "5d9205b9",
   "metadata": {},
   "outputs": [],
   "source": [
    "y_pred = gd.predict(X_test)"
   ]
  },
  {
   "cell_type": "code",
   "execution_count": 41,
   "id": "1b3624f8",
   "metadata": {},
   "outputs": [
    {
     "name": "stdout",
     "output_type": "stream",
     "text": [
      "0.44931205166657084\n"
     ]
    }
   ],
   "source": [
    "print(r2_score(y_test, y_pred))"
   ]
  }
 ],
 "metadata": {
  "kernelspec": {
   "display_name": "Python 3 (ipykernel)",
   "language": "python",
   "name": "python3"
  },
  "language_info": {
   "codemirror_mode": {
    "name": "ipython",
    "version": 3
   },
   "file_extension": ".py",
   "mimetype": "text/x-python",
   "name": "python",
   "nbconvert_exporter": "python",
   "pygments_lexer": "ipython3",
   "version": "3.7.3"
  }
 },
 "nbformat": 4,
 "nbformat_minor": 5
}
